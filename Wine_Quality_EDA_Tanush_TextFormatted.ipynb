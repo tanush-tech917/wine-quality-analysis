{
 "cells": [
  {
   "cell_type": "markdown",
   "id": "690be0ba",
   "metadata": {},
   "source": [
    "# Wine Quality Analysis\n",
    "\n",
    "In this project, I explore the characteristics that influence the quality of red wine. \n",
    "The dataset includes various physicochemical properties such as acidity, alcohol, and pH, \n",
    "which are used to determine the quality score of each sample.\n",
    "\n",
    "This analysis involves basic data exploration and visualization techniques \n",
    "to uncover patterns and correlations that might explain what makes a good wine."
   ]
  },
  {
   "cell_type": "markdown",
   "id": "b9c01a92",
   "metadata": {},
   "source": [
    "## 1. Dataset Overview\n",
    "\n",
    "We will start by loading the dataset and getting an overview of its structure."
   ]
  },
  {
   "cell_type": "code",
   "execution_count": null,
   "id": "d0c0bfa3",
   "metadata": {},
   "outputs": [],
   "source": [
    "# Importing the basic libraries for analysis\n",
    "import numpy as np\n",
    "import pandas as pd\n",
    "import seaborn as sns\n",
    "import matplotlib.pyplot as plt\n",
    "plt.style.use(\"ggplot\")\n",
    "%matplotlib inline\n",
    "import plotly.graph_objects as go\n",
    "import plotly.express as px"
   ]
  },
  {
   "cell_type": "code",
   "execution_count": null,
   "id": "5db23624",
   "metadata": {},
   "outputs": [],
   "source": [
    "# Importing the dataset\n",
    "df = pd.read_csv(\"WineQT.csv\")"
   ]
  },
  {
   "cell_type": "code",
   "execution_count": null,
   "id": "fbda9ea3",
   "metadata": {},
   "outputs": [],
   "source": [
    "# Displaying the first few rows of the dataset\n",
    "df.head()"
   ]
  },
  {
   "cell_type": "code",
   "execution_count": null,
   "id": "fe65cca7",
   "metadata": {},
   "outputs": [],
   "source": [
    "# Print the shape of the dataset\n",
    "print(\"Shape of the dataset:\", df.shape)"
   ]
  },
  {
   "cell_type": "code",
   "execution_count": null,
   "id": "31465a3b",
   "metadata": {},
   "outputs": [],
   "source": [
    "# Check column names and data types\n",
    "df.info()"
   ]
  },
  {
   "cell_type": "markdown",
   "id": "0f06100f",
   "metadata": {},
   "source": [
    "## 2. Data Cleaning & Preparation\n",
    "\n",
    "We check for null values, duplicates, and other anomalies that might need cleaning."
   ]
  },
  {
   "cell_type": "code",
   "execution_count": null,
   "id": "a324ed97",
   "metadata": {},
   "outputs": [],
   "source": [
    "# Checking for missing values\n",
    "df.isnull().sum()"
   ]
  },
  {
   "cell_type": "code",
   "execution_count": null,
   "id": "647bd9e8",
   "metadata": {},
   "outputs": [],
   "source": [
    "# Checking for duplicate rows\n",
    "print(\"Number of duplicate rows:\", df.duplicated().sum())"
   ]
  },
  {
   "cell_type": "code",
   "execution_count": null,
   "id": "5cfaa416",
   "metadata": {},
   "outputs": [],
   "source": [
    "# Removing duplicates (if any)\n",
    "df.drop_duplicates(inplace=True)\n",
    "print(\"New shape after removing duplicates:\", df.shape)"
   ]
  },
  {
   "cell_type": "markdown",
   "id": "6c6de7a6",
   "metadata": {},
   "source": [
    "## 3. Exploratory Data Analysis (EDA)\n",
    "\n",
    "We analyze distributions of individual features and relationships between them \n",
    "to understand what influences wine quality."
   ]
  },
  {
   "cell_type": "markdown",
   "id": "193a7985",
   "metadata": {},
   "source": [
    "### a. Distribution of Wine Quality Scores"
   ]
  },
  {
   "cell_type": "code",
   "execution_count": null,
   "id": "eb4f049b",
   "metadata": {},
   "outputs": [],
   "source": [
    "sns.countplot(x='quality', data=df, palette='Set2')\n",
    "plt.title(\"Distribution of Wine Quality Scores\")\n",
    "plt.xlabel(\"Quality Score\")\n",
    "plt.ylabel(\"Count\")\n",
    "plt.show()"
   ]
  },
  {
   "cell_type": "markdown",
   "id": "45e67d98",
   "metadata": {},
   "source": [
    "### b. Relationship Between Features and Quality\n",
    "\n",
    "We explore how features like alcohol, acidity, and sulphates relate to wine quality."
   ]
  },
  {
   "cell_type": "code",
   "execution_count": null,
   "id": "eecc67ea",
   "metadata": {},
   "outputs": [],
   "source": [
    "# Boxplot: Alcohol vs Quality\n",
    "sns.boxplot(x='quality', y='alcohol', data=df, palette='coolwarm')\n",
    "plt.title(\"Alcohol Content by Wine Quality\")\n",
    "plt.show()"
   ]
  },
  {
   "cell_type": "code",
   "execution_count": null,
   "id": "f2a923ae",
   "metadata": {},
   "outputs": [],
   "source": [
    "# Boxplot: Volatile Acidity vs Quality\n",
    "sns.boxplot(x='quality', y='volatile acidity', data=df, palette='coolwarm')\n",
    "plt.title(\"Volatile Acidity by Wine Quality\")\n",
    "plt.show()"
   ]
  },
  {
   "cell_type": "code",
   "execution_count": null,
   "id": "8de54580",
   "metadata": {},
   "outputs": [],
   "source": [
    "# Boxplot: Sulphates vs Quality\n",
    "sns.boxplot(x='quality', y='sulphates', data=df, palette='coolwarm')\n",
    "plt.title(\"Sulphates by Wine Quality\")\n",
    "plt.show()"
   ]
  },
  {
   "cell_type": "markdown",
   "id": "0a1ab53d",
   "metadata": {},
   "source": [
    "### c. Correlation Matrix\n",
    "\n",
    "This heatmap helps identify which features are strongly correlated with wine quality and with each other."
   ]
  },
  {
   "cell_type": "code",
   "execution_count": null,
   "id": "dc181d15",
   "metadata": {},
   "outputs": [],
   "source": [
    "# Correlation heatmap\n",
    "plt.figure(figsize=(10, 8))\n",
    "sns.heatmap(df.corr(), annot=True, cmap='coolwarm', fmt=\".2f\")\n",
    "plt.title(\"Feature Correlation Matrix\")\n",
    "plt.show()"
   ]
  },
  {
   "cell_type": "markdown",
   "id": "dbac968e",
   "metadata": {},
   "source": [
    "## 4. Key Insights\n",
    "\n",
    "- **Alcohol** has a strong positive correlation with wine quality.\n",
    "- **Volatile acidity** is negatively correlated with quality — higher acidity tends to lower scores.\n",
    "- **Sulphates** and **citric acid** show mild positive correlation.\n",
    "- Other features have weaker or less consistent impact."
   ]
  },
  {
   "cell_type": "markdown",
   "id": "624e8af6",
   "metadata": {},
   "source": [
    "## 5. Conclusion\n",
    "\n",
    "This beginner-level project helped me practice basic data analysis and visualization. \n",
    "The main takeaway is that alcohol content and certain acids can be good predictors of wine quality. \n",
    "In the future, this EDA could be extended with machine learning models \n",
    "to predict quality based on chemical features."
   ]
  },
  {
   "cell_type": "markdown",
   "id": "17c7d9ea",
   "metadata": {},
   "source": [
    "**Dataset Source**: [UCI Machine Learning Repository - Wine Quality Dataset](https://archive.ics.uci.edu/ml/datasets/wine+quality)"
   ]
  }
 ],
 "metadata": {
  "language": "python"
 },
 "nbformat": 4,
 "nbformat_minor": 5
}
